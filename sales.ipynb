{
 "cells": [
  {
   "cell_type": "code",
   "execution_count": 4,
   "id": "d77fb688-bd7c-4533-a16f-3e16f077bb55",
   "metadata": {},
   "outputs": [
    {
     "name": "stderr",
     "output_type": "stream",
     "text": [
      "C:\\Users\\USER\\AppData\\Local\\Temp\\ipykernel_9044\\1124564972.py:14: FutureWarning: A value is trying to be set on a copy of a DataFrame or Series through chained assignment using an inplace method.\n",
      "The behavior will change in pandas 3.0. This inplace method will never work because the intermediate object on which we are setting values always behaves as a copy.\n",
      "\n",
      "For example, when doing 'df[col].method(value, inplace=True)', try using 'df.method({col: value}, inplace=True)' or df[col] = df[col].method(value) instead, to perform the operation inplace on the original object.\n",
      "\n",
      "\n",
      "  df[\"customer_id\"].fillna('Unknown',inplace=True)\n",
      "C:\\Users\\USER\\AppData\\Local\\Temp\\ipykernel_9044\\1124564972.py:17: FutureWarning: A value is trying to be set on a copy of a DataFrame or Series through chained assignment using an inplace method.\n",
      "The behavior will change in pandas 3.0. This inplace method will never work because the intermediate object on which we are setting values always behaves as a copy.\n",
      "\n",
      "For example, when doing 'df[col].method(value, inplace=True)', try using 'df.method({col: value}, inplace=True)' or df[col] = df[col].method(value) instead, to perform the operation inplace on the original object.\n",
      "\n",
      "\n",
      "  df['price'].fillna(0, inplace=True)\n"
     ]
    }
   ],
   "source": [
    "import pandas as pd\n",
    "import json\n",
    "f = open('sales_data_large.json','r')\n",
    "data = json.load(f)\n",
    "f.close()  # Close the file after loading\n",
    "df=pd.DataFrame(data)\n",
    "df['product_id'] = df['product'].apply(lambda x: x['id'])\n",
    "df['product_name'] = df['product'].apply(lambda x: x['name'])\n",
    "df['category'] = df['product'].apply(lambda x: x['category'])\n",
    "df['price'] = df['product'].apply(lambda x: x['price'])\n",
    "df.drop(columns=['product'], inplace=True)\n",
    "df['date'] = df['date'].apply(lambda x: x + 'T00:00:00Z' if len(x) == 10 else x)\n",
    "df['date'] = pd.to_datetime(df['date'], errors='coerce').dt.strftime('%Y-%m-%d')\n",
    "df[\"customer_id\"].fillna('Unknown',inplace=True)\n",
    "df['quantity'] = df['quantity'].apply(lambda x: max(x, 0))\n",
    "df['total_value'] = df['quantity'] * df['price']\n",
    "df['price'].fillna(0, inplace=True)\n",
    "# df.to_csv(\"clean_sales_data.csv\", index=False)\n",
    "df.to_csv(\"clean_sales_data.csv\", index=False, quoting=1)  # quoting=1 ensures proper formatting"
   ]
  },
  {
   "cell_type": "code",
   "execution_count": null,
   "id": "46a389e1-015c-4a95-acf5-68c12a72e703",
   "metadata": {},
   "outputs": [],
   "source": []
  }
 ],
 "metadata": {
  "kernelspec": {
   "display_name": "Python 3 (ipykernel)",
   "language": "python",
   "name": "python3"
  },
  "language_info": {
   "codemirror_mode": {
    "name": "ipython",
    "version": 3
   },
   "file_extension": ".py",
   "mimetype": "text/x-python",
   "name": "python",
   "nbconvert_exporter": "python",
   "pygments_lexer": "ipython3",
   "version": "3.9.13"
  }
 },
 "nbformat": 4,
 "nbformat_minor": 5
}
